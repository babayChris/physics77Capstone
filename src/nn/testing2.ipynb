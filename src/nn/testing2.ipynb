{
 "cells": [
  {
   "cell_type": "code",
   "execution_count": 2,
   "id": "9d843142",
   "metadata": {},
   "outputs": [],
   "source": [
    "import pandas as pd\n",
    "import numpy as np\n",
    "from model import Model\n",
    "from layer import Linear, ActivationFunc\n",
    "from loss import Loss\n",
    "from network import SequentialNetwork\n",
    "from optimizer import Optimizer"
   ]
  },
  {
   "cell_type": "code",
   "execution_count": 3,
   "id": "17d1f3ea",
   "metadata": {},
   "outputs": [
    {
     "data": {
      "application/vnd.microsoft.datawrangler.viewer.v0+json": {
       "columns": [
        {
         "name": "index",
         "rawType": "int64",
         "type": "integer"
        },
        {
         "name": "Temperature (K)",
         "rawType": "int64",
         "type": "integer"
        },
        {
         "name": "Luminosity(L/Lo)",
         "rawType": "float64",
         "type": "float"
        },
        {
         "name": "Radius(R/Ro)",
         "rawType": "float64",
         "type": "float"
        },
        {
         "name": "Absolute magnitude(Mv)",
         "rawType": "float64",
         "type": "float"
        },
        {
         "name": "Star type",
         "rawType": "int64",
         "type": "integer"
        },
        {
         "name": "Star color",
         "rawType": "object",
         "type": "string"
        },
        {
         "name": "Spectral Class",
         "rawType": "object",
         "type": "string"
        }
       ],
       "ref": "48cfbaac-73b5-4afc-81bc-55aa95a64724",
       "rows": [
        [
         "0",
         "3068",
         "0.0024",
         "0.17",
         "16.12",
         "0",
         "Red",
         "M"
        ],
        [
         "1",
         "3042",
         "0.0005",
         "0.1542",
         "16.6",
         "0",
         "Red",
         "M"
        ],
        [
         "2",
         "2600",
         "0.0003",
         "0.102",
         "18.7",
         "0",
         "Red",
         "M"
        ],
        [
         "3",
         "2800",
         "0.0002",
         "0.16",
         "16.65",
         "0",
         "Red",
         "M"
        ],
        [
         "4",
         "1939",
         "0.000138",
         "0.103",
         "20.06",
         "0",
         "Red",
         "M"
        ]
       ],
       "shape": {
        "columns": 7,
        "rows": 5
       }
      },
      "text/html": [
       "<div>\n",
       "<style scoped>\n",
       "    .dataframe tbody tr th:only-of-type {\n",
       "        vertical-align: middle;\n",
       "    }\n",
       "\n",
       "    .dataframe tbody tr th {\n",
       "        vertical-align: top;\n",
       "    }\n",
       "\n",
       "    .dataframe thead th {\n",
       "        text-align: right;\n",
       "    }\n",
       "</style>\n",
       "<table border=\"1\" class=\"dataframe\">\n",
       "  <thead>\n",
       "    <tr style=\"text-align: right;\">\n",
       "      <th></th>\n",
       "      <th>Temperature (K)</th>\n",
       "      <th>Luminosity(L/Lo)</th>\n",
       "      <th>Radius(R/Ro)</th>\n",
       "      <th>Absolute magnitude(Mv)</th>\n",
       "      <th>Star type</th>\n",
       "      <th>Star color</th>\n",
       "      <th>Spectral Class</th>\n",
       "    </tr>\n",
       "  </thead>\n",
       "  <tbody>\n",
       "    <tr>\n",
       "      <th>0</th>\n",
       "      <td>3068</td>\n",
       "      <td>0.002400</td>\n",
       "      <td>0.1700</td>\n",
       "      <td>16.12</td>\n",
       "      <td>0</td>\n",
       "      <td>Red</td>\n",
       "      <td>M</td>\n",
       "    </tr>\n",
       "    <tr>\n",
       "      <th>1</th>\n",
       "      <td>3042</td>\n",
       "      <td>0.000500</td>\n",
       "      <td>0.1542</td>\n",
       "      <td>16.60</td>\n",
       "      <td>0</td>\n",
       "      <td>Red</td>\n",
       "      <td>M</td>\n",
       "    </tr>\n",
       "    <tr>\n",
       "      <th>2</th>\n",
       "      <td>2600</td>\n",
       "      <td>0.000300</td>\n",
       "      <td>0.1020</td>\n",
       "      <td>18.70</td>\n",
       "      <td>0</td>\n",
       "      <td>Red</td>\n",
       "      <td>M</td>\n",
       "    </tr>\n",
       "    <tr>\n",
       "      <th>3</th>\n",
       "      <td>2800</td>\n",
       "      <td>0.000200</td>\n",
       "      <td>0.1600</td>\n",
       "      <td>16.65</td>\n",
       "      <td>0</td>\n",
       "      <td>Red</td>\n",
       "      <td>M</td>\n",
       "    </tr>\n",
       "    <tr>\n",
       "      <th>4</th>\n",
       "      <td>1939</td>\n",
       "      <td>0.000138</td>\n",
       "      <td>0.1030</td>\n",
       "      <td>20.06</td>\n",
       "      <td>0</td>\n",
       "      <td>Red</td>\n",
       "      <td>M</td>\n",
       "    </tr>\n",
       "  </tbody>\n",
       "</table>\n",
       "</div>"
      ],
      "text/plain": [
       "   Temperature (K)  Luminosity(L/Lo)  Radius(R/Ro)  Absolute magnitude(Mv)  \\\n",
       "0             3068          0.002400        0.1700                   16.12   \n",
       "1             3042          0.000500        0.1542                   16.60   \n",
       "2             2600          0.000300        0.1020                   18.70   \n",
       "3             2800          0.000200        0.1600                   16.65   \n",
       "4             1939          0.000138        0.1030                   20.06   \n",
       "\n",
       "   Star type Star color Spectral Class  \n",
       "0          0        Red              M  \n",
       "1          0        Red              M  \n",
       "2          0        Red              M  \n",
       "3          0        Red              M  \n",
       "4          0        Red              M  "
      ]
     },
     "execution_count": 3,
     "metadata": {},
     "output_type": "execute_result"
    }
   ],
   "source": [
    "df = pd.read_csv('6class.csv')\n",
    "df.head()"
   ]
  },
  {
   "cell_type": "code",
   "execution_count": 1,
   "id": "f73a87a1",
   "metadata": {},
   "outputs": [],
   "source": [
    "from builder import ModelBuilder\n",
    "import pandas as pd"
   ]
  },
  {
   "cell_type": "code",
   "execution_count": 2,
   "id": "f2245828",
   "metadata": {},
   "outputs": [],
   "source": [
    "builder = ModelBuilder()"
   ]
  },
  {
   "cell_type": "code",
   "execution_count": 3,
   "id": "c4620f0a",
   "metadata": {},
   "outputs": [
    {
     "name": "stdout",
     "output_type": "stream",
     "text": [
      "starting training:\n",
      "epoch 1 complete, with average loss of 29.9202\n",
      "epoch 2 complete, with average loss of 22.8718\n",
      "epoch 3 complete, with average loss of 28.6029\n",
      "epoch 4 complete, with average loss of 24.9498\n",
      "epoch 5 complete, with average loss of 28.6044\n",
      "epoch 6 complete, with average loss of 26.7461\n",
      "epoch 7 complete, with average loss of 26.4535\n",
      "epoch 8 complete, with average loss of 28.6030\n",
      "epoch 9 complete, with average loss of 24.4255\n",
      "epoch 10 complete, with average loss of 27.7464\n",
      "epoch 11 complete, with average loss of 25.9399\n",
      "epoch 12 complete, with average loss of 25.9646\n",
      "epoch 13 complete, with average loss of 27.7728\n",
      "epoch 14 complete, with average loss of 25.5469\n",
      "epoch 15 complete, with average loss of 12.9413\n",
      "epoch 16 complete, with average loss of 3.4939\n",
      "epoch 17 complete, with average loss of 3.4939\n",
      "epoch 18 complete, with average loss of 3.4939\n",
      "epoch 19 complete, with average loss of 3.4939\n",
      "epoch 20 complete, with average loss of 3.4939\n",
      "epoch 21 complete, with average loss of 3.4939\n",
      "epoch 22 complete, with average loss of 3.4939\n",
      "epoch 23 complete, with average loss of 3.4939\n",
      "epoch 24 complete, with average loss of 3.4939\n",
      "epoch 25 complete, with average loss of 3.4939\n",
      "epoch 26 complete, with average loss of 3.4939\n",
      "epoch 27 complete, with average loss of 3.4939\n",
      "epoch 28 complete, with average loss of 3.4939\n",
      "epoch 29 complete, with average loss of 3.4939\n",
      "epoch 30 complete, with average loss of 3.4939\n",
      "epoch 31 complete, with average loss of 3.4939\n",
      "epoch 32 complete, with average loss of 3.4938\n",
      "epoch 33 complete, with average loss of 3.4938\n",
      "epoch 34 complete, with average loss of 3.4938\n",
      "epoch 35 complete, with average loss of 3.4938\n",
      "epoch 36 complete, with average loss of 3.4938\n",
      "epoch 37 complete, with average loss of 3.4938\n",
      "epoch 38 complete, with average loss of 3.4938\n",
      "epoch 39 complete, with average loss of 3.4938\n",
      "epoch 40 complete, with average loss of 3.4938\n",
      "epoch 41 complete, with average loss of 3.4938\n",
      "epoch 42 complete, with average loss of 3.4938\n",
      "epoch 43 complete, with average loss of 3.4938\n",
      "epoch 44 complete, with average loss of 3.4938\n",
      "epoch 45 complete, with average loss of 3.4938\n",
      "epoch 46 complete, with average loss of 3.4938\n",
      "epoch 47 complete, with average loss of 3.4938\n",
      "epoch 48 complete, with average loss of 3.4937\n",
      "epoch 49 complete, with average loss of 3.4937\n",
      "epoch 50 complete, with average loss of 3.4937\n",
      "epoch 51 complete, with average loss of 3.4937\n",
      "epoch 52 complete, with average loss of 3.4937\n",
      "epoch 53 complete, with average loss of 3.4937\n",
      "epoch 54 complete, with average loss of 3.4937\n",
      "epoch 55 complete, with average loss of 3.4937\n",
      "epoch 56 complete, with average loss of 3.4937\n",
      "epoch 57 complete, with average loss of 3.4937\n",
      "epoch 58 complete, with average loss of 3.4937\n",
      "epoch 59 complete, with average loss of 3.4937\n",
      "epoch 60 complete, with average loss of 3.4937\n",
      "epoch 61 complete, with average loss of 3.4937\n",
      "epoch 62 complete, with average loss of 3.4937\n",
      "epoch 63 complete, with average loss of 3.4937\n",
      "epoch 64 complete, with average loss of 3.4936\n",
      "epoch 65 complete, with average loss of 3.4936\n",
      "epoch 66 complete, with average loss of 3.4936\n",
      "epoch 67 complete, with average loss of 3.4936\n",
      "epoch 68 complete, with average loss of 3.4936\n",
      "epoch 69 complete, with average loss of 3.4936\n",
      "epoch 70 complete, with average loss of 3.4936\n",
      "epoch 71 complete, with average loss of 3.4936\n",
      "epoch 72 complete, with average loss of 3.4936\n",
      "epoch 73 complete, with average loss of 3.4936\n",
      "epoch 74 complete, with average loss of 3.4936\n",
      "epoch 75 complete, with average loss of 3.4936\n",
      "epoch 76 complete, with average loss of 3.4936\n",
      "epoch 77 complete, with average loss of 3.4936\n",
      "epoch 78 complete, with average loss of 3.4936\n",
      "epoch 79 complete, with average loss of 3.4936\n",
      "epoch 80 complete, with average loss of 3.4935\n",
      "epoch 81 complete, with average loss of 3.4935\n",
      "epoch 82 complete, with average loss of 3.4935\n",
      "epoch 83 complete, with average loss of 3.4935\n",
      "epoch 84 complete, with average loss of 3.4935\n",
      "epoch 85 complete, with average loss of 3.4935\n",
      "epoch 86 complete, with average loss of 3.4935\n",
      "epoch 87 complete, with average loss of 3.4935\n",
      "epoch 88 complete, with average loss of 3.4935\n",
      "epoch 89 complete, with average loss of 3.4935\n",
      "epoch 90 complete, with average loss of 3.4935\n",
      "epoch 91 complete, with average loss of 3.4935\n",
      "epoch 92 complete, with average loss of 3.4935\n",
      "epoch 93 complete, with average loss of 3.4935\n",
      "epoch 94 complete, with average loss of 3.4935\n",
      "epoch 95 complete, with average loss of 3.4934\n",
      "epoch 96 complete, with average loss of 3.4934\n",
      "epoch 97 complete, with average loss of 3.4934\n",
      "epoch 98 complete, with average loss of 3.4934\n",
      "epoch 99 complete, with average loss of 3.4934\n",
      "epoch 100 complete, with average loss of 3.4934\n",
      "All Done Training!\n"
     ]
    }
   ],
   "source": [
    "df = pd.read_csv(\"6class.csv\")\n",
    "builder.build([32, 9])\n",
    "builder.train(df, 100)"
   ]
  }
 ],
 "metadata": {
  "kernelspec": {
   "display_name": "physics77",
   "language": "python",
   "name": "python3"
  },
  "language_info": {
   "codemirror_mode": {
    "name": "ipython",
    "version": 3
   },
   "file_extension": ".py",
   "mimetype": "text/x-python",
   "name": "python",
   "nbconvert_exporter": "python",
   "pygments_lexer": "ipython3",
   "version": "3.11.13"
  }
 },
 "nbformat": 4,
 "nbformat_minor": 5
}
