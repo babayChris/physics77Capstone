{
 "cells": [
  {
   "cell_type": "markdown",
   "id": "5aa5e0d1-d33e-4c51-a40f-5d0b2fcee1ad",
   "metadata": {},
   "source": [
    "## Importing Pandas, Numpy, And Our Classes"
   ]
  },
  {
   "cell_type": "code",
   "execution_count": 1,
   "id": "09c75edb",
   "metadata": {},
   "outputs": [],
   "source": [
    "import pandas as pd\n",
    "import numpy as np\n",
    "from model import Model\n",
    "from layer import Linear, ActivationFunc\n",
    "from loss import Loss\n",
    "from network import SequentialNetwork\n",
    "from optimizer import Optimizer"
   ]
  },
  {
   "cell_type": "markdown",
   "id": "8a70d210-b41b-484c-814c-0e7490c47e7b",
   "metadata": {},
   "source": [
    "<br>"
   ]
  },
  {
   "cell_type": "markdown",
   "id": "e55c50f1-006d-4aa2-a98a-a6a83da5d36d",
   "metadata": {},
   "source": [
    "## Top Of Our Dataset"
   ]
  },
  {
   "cell_type": "code",
   "execution_count": 2,
   "id": "4401fdf7",
   "metadata": {},
   "outputs": [
    {
     "data": {
      "text/html": [
       "<div>\n",
       "<style scoped>\n",
       "    .dataframe tbody tr th:only-of-type {\n",
       "        vertical-align: middle;\n",
       "    }\n",
       "\n",
       "    .dataframe tbody tr th {\n",
       "        vertical-align: top;\n",
       "    }\n",
       "\n",
       "    .dataframe thead th {\n",
       "        text-align: right;\n",
       "    }\n",
       "</style>\n",
       "<table border=\"1\" class=\"dataframe\">\n",
       "  <thead>\n",
       "    <tr style=\"text-align: right;\">\n",
       "      <th></th>\n",
       "      <th>Temperature (K)</th>\n",
       "      <th>Luminosity(L/Lo)</th>\n",
       "      <th>Radius(R/Ro)</th>\n",
       "      <th>Absolute magnitude(Mv)</th>\n",
       "      <th>Star type</th>\n",
       "      <th>Star color</th>\n",
       "      <th>Spectral Class</th>\n",
       "    </tr>\n",
       "  </thead>\n",
       "  <tbody>\n",
       "    <tr>\n",
       "      <th>0</th>\n",
       "      <td>3068</td>\n",
       "      <td>0.002400</td>\n",
       "      <td>0.1700</td>\n",
       "      <td>16.12</td>\n",
       "      <td>0</td>\n",
       "      <td>Red</td>\n",
       "      <td>M</td>\n",
       "    </tr>\n",
       "    <tr>\n",
       "      <th>1</th>\n",
       "      <td>3042</td>\n",
       "      <td>0.000500</td>\n",
       "      <td>0.1542</td>\n",
       "      <td>16.60</td>\n",
       "      <td>0</td>\n",
       "      <td>Red</td>\n",
       "      <td>M</td>\n",
       "    </tr>\n",
       "    <tr>\n",
       "      <th>2</th>\n",
       "      <td>2600</td>\n",
       "      <td>0.000300</td>\n",
       "      <td>0.1020</td>\n",
       "      <td>18.70</td>\n",
       "      <td>0</td>\n",
       "      <td>Red</td>\n",
       "      <td>M</td>\n",
       "    </tr>\n",
       "    <tr>\n",
       "      <th>3</th>\n",
       "      <td>2800</td>\n",
       "      <td>0.000200</td>\n",
       "      <td>0.1600</td>\n",
       "      <td>16.65</td>\n",
       "      <td>0</td>\n",
       "      <td>Red</td>\n",
       "      <td>M</td>\n",
       "    </tr>\n",
       "    <tr>\n",
       "      <th>4</th>\n",
       "      <td>1939</td>\n",
       "      <td>0.000138</td>\n",
       "      <td>0.1030</td>\n",
       "      <td>20.06</td>\n",
       "      <td>0</td>\n",
       "      <td>Red</td>\n",
       "      <td>M</td>\n",
       "    </tr>\n",
       "  </tbody>\n",
       "</table>\n",
       "</div>"
      ],
      "text/plain": [
       "   Temperature (K)  Luminosity(L/Lo)  Radius(R/Ro)  Absolute magnitude(Mv)  \\\n",
       "0             3068          0.002400        0.1700                   16.12   \n",
       "1             3042          0.000500        0.1542                   16.60   \n",
       "2             2600          0.000300        0.1020                   18.70   \n",
       "3             2800          0.000200        0.1600                   16.65   \n",
       "4             1939          0.000138        0.1030                   20.06   \n",
       "\n",
       "   Star type Star color Spectral Class  \n",
       "0          0        Red              M  \n",
       "1          0        Red              M  \n",
       "2          0        Red              M  \n",
       "3          0        Red              M  \n",
       "4          0        Red              M  "
      ]
     },
     "execution_count": 2,
     "metadata": {},
     "output_type": "execute_result"
    }
   ],
   "source": [
    "df = pd.read_csv(\"6class.csv\")\n",
    "df.head()"
   ]
  },
  {
   "cell_type": "markdown",
   "id": "c928d9bd-5264-4dca-ac27-be3ff8146d1e",
   "metadata": {},
   "source": [
    "<br>"
   ]
  },
  {
   "cell_type": "markdown",
   "id": "fa3341e0-a766-4541-841c-16526bde6bf4",
   "metadata": {},
   "source": [
    "## Preparing Our Dataset For Training"
   ]
  },
  {
   "cell_type": "code",
   "execution_count": 3,
   "id": "f7b35b49-b3fb-4738-85c8-882dcb867659",
   "metadata": {},
   "outputs": [],
   "source": [
    "\"\"\"\n",
    "isolate temp, luminosity, radius, abs mag b/c we want only numbers (floats)\n",
    "\"\"\"\n",
    "inputs = np.array(df.drop(['Star type', 'Star color', 'Spectral Class'], axis=1))\n",
    "ground_truth = np.array(df['Star type'])\n",
    "ground_truth.shape = (len(ground_truth),1)  #shaping the truth values to a column vector\n",
    "\n",
    "\"\"\"\n",
    "each index is one input and output pair\n",
    "inputs[i] -> ground_truth[i]\n",
    "\"\"\"\n",
    "\n",
    "'''\n",
    "spliting the dataset into values to train and to test the model on with an 80/20 split\n",
    "'''\n",
    "\n",
    "inputs_test = inputs[int(len(inputs)-(len(inputs)*0.2)):,:]\n",
    "inputs = inputs[:int(len(inputs)-(len(inputs)*0.2)),:]\n",
    "ground_truth_test = ground_truth[int(len(ground_truth)-(len(ground_truth)*0.2)):,:]\n",
    "ground_truth = ground_truth[:int(len(ground_truth)-(len(ground_truth)*0.2)),:]"
   ]
  },
  {
   "cell_type": "markdown",
   "id": "9cba2a67-6199-441f-979c-afd43eb95da0",
   "metadata": {},
   "source": [
    "<br>"
   ]
  },
  {
   "cell_type": "markdown",
   "id": "0ec435fb-a5d4-4468-adda-51ba855f6e51",
   "metadata": {},
   "source": [
    "## Setting up the Nueral Net"
   ]
  },
  {
   "cell_type": "code",
   "execution_count": 4,
   "id": "9be38b9a-e34b-4737-8430-029b35cec76b",
   "metadata": {},
   "outputs": [],
   "source": [
    "star_nn = Model()\n",
    "\n",
    "star_nn.addLayer(Linear(input_size = 4, output_size = 32))\n",
    "star_nn.addLayer(ActivationFunc(\"relu\"))\n",
    "\n",
    "star_nn.addLayer(Linear(input_size = 32, output_size = 16))\n",
    "star_nn.addLayer(ActivationFunc(\"relu\"))\n",
    "\n",
    "star_nn.addLayer(Linear(input_size = 16, output_size = 6))\n",
    "star_nn.addLayer(ActivationFunc(\"softmax\"))\n",
    "\n",
    "star_nn.compile(learning_rate = 0.001)\n"
   ]
  },
  {
   "cell_type": "markdown",
   "id": "d359cd99-0905-4339-80ba-77dde7cc147e",
   "metadata": {},
   "source": [
    "<br>"
   ]
  },
  {
   "cell_type": "markdown",
   "id": "72dc7238-ef0a-4d1c-a169-4e80dd8b3a54",
   "metadata": {},
   "source": [
    "## Training"
   ]
  },
  {
   "cell_type": "code",
   "execution_count": 5,
   "id": "f2ef25fe-99c0-490c-9d78-113077381c57",
   "metadata": {},
   "outputs": [
    {
     "name": "stdout",
     "output_type": "stream",
     "text": [
      "starting training:\n",
      "epoch 1 complete, with average loss of 61.4044\n",
      "epoch 2 complete, with average loss of 58.9755\n",
      "epoch 3 complete, with average loss of 66.3743\n",
      "epoch 4 complete, with average loss of 58.3609\n",
      "epoch 5 complete, with average loss of 58.3283\n",
      "epoch 6 complete, with average loss of 58.2374\n",
      "epoch 7 complete, with average loss of 58.1903\n",
      "epoch 8 complete, with average loss of 58.1577\n",
      "epoch 9 complete, with average loss of 58.1512\n",
      "epoch 10 complete, with average loss of 58.0496\n",
      "epoch 11 complete, with average loss of 55.2216\n",
      "epoch 12 complete, with average loss of 52.8655\n",
      "epoch 13 complete, with average loss of 46.3046\n",
      "epoch 14 complete, with average loss of 41.8163\n",
      "epoch 15 complete, with average loss of 35.0653\n",
      "epoch 16 complete, with average loss of 32.1642\n",
      "epoch 17 complete, with average loss of 25.8244\n",
      "epoch 18 complete, with average loss of 21.9195\n",
      "epoch 19 complete, with average loss of 16.6782\n",
      "epoch 20 complete, with average loss of 13.4027\n",
      "epoch 21 complete, with average loss of 9.6679\n",
      "epoch 22 complete, with average loss of 7.9858\n",
      "epoch 23 complete, with average loss of 6.9321\n",
      "epoch 24 complete, with average loss of 5.5740\n",
      "epoch 25 complete, with average loss of 5.4040\n",
      "epoch 26 complete, with average loss of 5.3743\n",
      "epoch 27 complete, with average loss of 5.3458\n",
      "epoch 28 complete, with average loss of 5.3213\n",
      "epoch 29 complete, with average loss of 5.2977\n",
      "epoch 30 complete, with average loss of 5.2735\n",
      "epoch 31 complete, with average loss of 5.2516\n",
      "epoch 32 complete, with average loss of 5.2307\n",
      "epoch 33 complete, with average loss of 5.2128\n",
      "epoch 34 complete, with average loss of 5.1912\n",
      "epoch 35 complete, with average loss of 5.1746\n",
      "epoch 36 complete, with average loss of 5.1580\n",
      "epoch 37 complete, with average loss of 5.1425\n",
      "epoch 38 complete, with average loss of 5.1274\n",
      "epoch 39 complete, with average loss of 5.1137\n",
      "epoch 40 complete, with average loss of 5.0995\n",
      "epoch 41 complete, with average loss of 5.0876\n",
      "epoch 42 complete, with average loss of 5.0757\n",
      "epoch 43 complete, with average loss of 5.0644\n",
      "epoch 44 complete, with average loss of 5.0538\n",
      "epoch 45 complete, with average loss of 5.0440\n",
      "epoch 46 complete, with average loss of 5.0347\n",
      "epoch 47 complete, with average loss of 5.0249\n",
      "epoch 48 complete, with average loss of 5.0165\n",
      "epoch 49 complete, with average loss of 5.0087\n",
      "epoch 50 complete, with average loss of 5.0008\n",
      "epoch 51 complete, with average loss of 4.9938\n",
      "epoch 52 complete, with average loss of 4.9867\n",
      "epoch 53 complete, with average loss of 4.9801\n",
      "epoch 54 complete, with average loss of 4.9751\n",
      "epoch 55 complete, with average loss of 4.9683\n",
      "epoch 56 complete, with average loss of 4.9630\n",
      "epoch 57 complete, with average loss of 4.9577\n",
      "epoch 58 complete, with average loss of 4.9527\n",
      "epoch 59 complete, with average loss of 4.9474\n",
      "epoch 60 complete, with average loss of 4.9441\n",
      "epoch 61 complete, with average loss of 4.9386\n",
      "epoch 62 complete, with average loss of 4.9353\n",
      "epoch 63 complete, with average loss of 4.9319\n",
      "epoch 64 complete, with average loss of 4.9277\n",
      "epoch 65 complete, with average loss of 4.9235\n",
      "epoch 66 complete, with average loss of 4.9213\n",
      "epoch 67 complete, with average loss of 4.9183\n",
      "epoch 68 complete, with average loss of 4.9144\n",
      "epoch 69 complete, with average loss of 4.9114\n",
      "epoch 70 complete, with average loss of 4.9079\n",
      "epoch 71 complete, with average loss of 4.9070\n",
      "epoch 72 complete, with average loss of 4.9035\n",
      "epoch 73 complete, with average loss of 4.9013\n",
      "epoch 74 complete, with average loss of 4.8979\n",
      "epoch 75 complete, with average loss of 4.8957\n",
      "epoch 76 complete, with average loss of 4.8936\n",
      "epoch 77 complete, with average loss of 4.8906\n",
      "epoch 78 complete, with average loss of 4.8897\n",
      "epoch 79 complete, with average loss of 4.8875\n",
      "epoch 80 complete, with average loss of 4.8845\n",
      "epoch 81 complete, with average loss of 4.8826\n",
      "epoch 82 complete, with average loss of 4.8817\n",
      "epoch 83 complete, with average loss of 4.8778\n",
      "epoch 84 complete, with average loss of 4.8780\n",
      "epoch 85 complete, with average loss of 4.8746\n",
      "epoch 86 complete, with average loss of 4.8728\n",
      "epoch 87 complete, with average loss of 4.8729\n",
      "epoch 88 complete, with average loss of 4.8701\n",
      "epoch 89 complete, with average loss of 4.8696\n",
      "epoch 90 complete, with average loss of 4.8678\n",
      "epoch 91 complete, with average loss of 4.8635\n",
      "epoch 92 complete, with average loss of 4.8632\n",
      "epoch 93 complete, with average loss of 4.8631\n",
      "epoch 94 complete, with average loss of 4.8589\n",
      "epoch 95 complete, with average loss of 4.8576\n",
      "epoch 96 complete, with average loss of 4.8553\n",
      "epoch 97 complete, with average loss of 4.8571\n",
      "epoch 98 complete, with average loss of 4.8546\n",
      "epoch 99 complete, with average loss of 4.8509\n",
      "epoch 100 complete, with average loss of 4.8524\n",
      "All Done Training!\n"
     ]
    }
   ],
   "source": [
    "star_nn.train(inputs = inputs,truth= ground_truth, epochs = 100, batch_size = 16)"
   ]
  },
  {
   "cell_type": "markdown",
   "id": "0976ab00-6bca-48fc-9bbf-eaf7a80e0ea6",
   "metadata": {},
   "source": [
    "<br>"
   ]
  },
  {
   "cell_type": "markdown",
   "id": "4da1cd27-644d-4772-95cf-77b913df1d8e",
   "metadata": {},
   "source": [
    "## Testing Our Trained Data Set on The Rest of the Data"
   ]
  },
  {
   "cell_type": "code",
   "execution_count": 21,
   "id": "bd0c1741",
   "metadata": {},
   "outputs": [
    {
     "name": "stdout",
     "output_type": "stream",
     "text": [
      "Test our trained module on the data not given for training\n"
     ]
    }
   ],
   "source": [
    "print(\"Test our trained module on the data not given for training\")\n",
    "\n",
    "\n",
    "trained_model_prediction = star_nn.useTrainedModel(inputs_test)\n",
    "num_correct = 0\n"
   ]
  },
  {
   "cell_type": "code",
   "execution_count": null,
   "id": "410e4c3c-be7f-4b10-a196-79a175e48b14",
   "metadata": {},
   "outputs": [],
   "source": []
  }
 ],
 "metadata": {
  "kernelspec": {
   "display_name": "Python 3 (ipykernel)",
   "language": "python",
   "name": "python3"
  },
  "language_info": {
   "codemirror_mode": {
    "name": "ipython",
    "version": 3
   },
   "file_extension": ".py",
   "mimetype": "text/x-python",
   "name": "python",
   "nbconvert_exporter": "python",
   "pygments_lexer": "ipython3",
   "version": "3.12.7"
  }
 },
 "nbformat": 4,
 "nbformat_minor": 5
}
